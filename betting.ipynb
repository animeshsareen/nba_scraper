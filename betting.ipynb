{
 "cells": [
  {
   "cell_type": "markdown",
   "metadata": {},
   "source": [
    "# setup"
   ]
  },
  {
   "cell_type": "code",
   "execution_count": 16,
   "metadata": {},
   "outputs": [],
   "source": [
    "# run all of this\n",
    "import os\n",
    "import pandas as pd\n",
    "import re\n",
    "from datetime import datetime\n",
    "import requests\n",
    "import numpy as np\n",
    "from bs4 import BeautifulSoup\n",
    "import matplotlib.pyplot as plt\n",
    "import plotly.express as px\n",
    "import ipywidgets as widgets\n",
    "from ipywidgets import interact, interact_manual\n",
    "import nbformat as nbf\n",
    "import plotly.io as pio\n",
    "\n",
    "# collect() function to scrape data\n",
    "def collect(player):\n",
    "    global stats\n",
    "    \n",
    "    # convert start_year to integer\n",
    "    start = 2021\n",
    "    current = datetime.now().year\n",
    "\n",
    "    # base URL for basketball-reference.com\n",
    "    base_url = \"https://www.basketball-reference.com/players\"\n",
    "\n",
    "    # splitting the full name\n",
    "    name_parts = [part.lower() for part in player.split()]\n",
    "\n",
    "    # get pieces\n",
    "    first_name = name_parts[0]\n",
    "    last_name = name_parts[-1]\n",
    "    last_name_first = last_name[0]\n",
    "    first_two_first = first_name[0:2]\n",
    "    first_five_last = last_name[0:5]\n",
    "\n",
    "    # connect pieces\n",
    "    player_code = f\"{first_five_last}{first_two_first}01\"\n",
    "\n",
    "    # create df\n",
    "    stats = pd.DataFrame()\n",
    "\n",
    "    # loop through years\n",
    "    for year in range(start - 1, current + 2):\n",
    "        url = f\"{base_url}/{last_name_first}/{player_code}/gamelog/{year}\"\n",
    "\n",
    "        # send request\n",
    "        response = requests.get(url)\n",
    "\n",
    "        # if success:\n",
    "        if response.status_code == 200:\n",
    "            soup = BeautifulSoup(response.content, 'html.parser')\n",
    "         # Finding the table with the stats\n",
    "            table = soup.find('table', {'id': 'pgl_basic'})\n",
    "\n",
    "            # If the table is found\n",
    "            if table:\n",
    "                # Extracting the table headers\n",
    "                headers = [th.getText() for th in table.find_all('tr', limit=2)[0].find_all('th')]\n",
    "                headers = headers[1:]  # Remove the first header, which is usually empty\n",
    "\n",
    "                # Extracting the rows from the table\n",
    "                rows = table.find_all('tr')[1:]\n",
    "                player_stats = [[td.getText() for td in rows[i].find_all('td')]\n",
    "                                for i in range(len(rows))]\n",
    "\n",
    "                # Check if the number of columns matches\n",
    "                if len(headers) == len(player_stats[0]):\n",
    "                    # Creating a DataFrame for the current year\n",
    "                    df = pd.DataFrame(player_stats, columns=headers)\n",
    "\n",
    "                    # Drop rows with mismatched columns\n",
    "                    df = df.dropna(axis=0, subset=headers)\n",
    "\n",
    "                    # Appending the data to the all_stats DataFrame\n",
    "                    stats = pd.concat([stats, df], ignore_index=True)\n",
    "        else:\n",
    "            print(f\"Skipping year {year}. Request failed with status code {response.status_code}\")\n",
    "\n",
    "    return stats\n",
    "\n",
    "# random ETL functions\n",
    "def to_numeric(df):\n",
    "    return df.apply(pd.to_numeric, errors='ignore')\n",
    "\n",
    "def missing_vals(df):\n",
    "    return df.dropna(axis=0, thresh=10)\n",
    "\n",
    "# make lower case\n",
    "def make_cols_lower(df):\n",
    "    df.columns = map(str.lower, df.columns)\n",
    "    return df\n",
    "\n",
    "def naming(df):\n",
    "    df.rename(columns={df.columns[6]: 'margin'},  inplace=True)\n",
    "    df.rename(columns = {'trb': 'reb'}, inplace=True)\n",
    "    return df\n",
    "\n",
    "def convert_mp(df):\n",
    "    df['mp'] = [time.split(':')[0] if isinstance(time, str) else time for time in df['mp']]\n",
    "    df['mp'] = df['mp'].astype(int)\n",
    "    \n",
    "    return df\n",
    "\n",
    "def deduplicate(df):\n",
    "    df = df.drop_duplicates()\n",
    "    return df\n",
    "\n",
    "def mutate(df):\n",
    "    # convert - to .\n",
    "    df['age'] = df['age'].str.replace('-', '.')\n",
    "    # convert to float\n",
    "    df['age'] = df['age'].astype(float)\n",
    "    # convert to datetime\n",
    "    df['date'] = pd.to_datetime(df['date'])\n",
    "\n",
    "    return df\n",
    "\n",
    "# creating home/away, W/L, and margin of w/l cols\n",
    "def split(df):\n",
    "    # isolating unnamed cols\n",
    "    t1 = df.iloc[:,0:df.columns.get_loc('opp')]\n",
    "    aways = t1['margin'].values.tolist()\n",
    "    # now isolating margin of win/wl\n",
    "    t2 = df.iloc[:,df.columns.get_loc('opp'):]\n",
    "    margins = t2['margin'].values.tolist()\n",
    "\n",
    "    return aways, margins\n",
    "\n",
    "# use splits to make new cols\n",
    "def use_split(df):\n",
    "    a, m = split(df)\n",
    "\n",
    "    homes = []\n",
    "    wins = []\n",
    "\n",
    "    # loop through once for home/away\n",
    "    for i in a:\n",
    "        # if home\n",
    "        if '@' in i:\n",
    "            homes.append('N')\n",
    "        else:\n",
    "            homes.append('Y')\n",
    "    # now for win/loss\n",
    "    for i in m:\n",
    "        # if win\n",
    "        if 'W' in i:\n",
    "            wins.append('Y')\n",
    "        else:\n",
    "            wins.append('N')\n",
    "\n",
    "    mg = [int(item.split()[1].strip(\"()+\")) if item is not None else 0 for item in m]\n",
    "\n",
    "    # append homes/wins/m as new cols to 'x'\n",
    "    df['home'] = homes\n",
    "    df['win'] = wins\n",
    "    df['by'] = mg\n",
    "    df = df.drop(columns=['margin'])\n",
    "    \n",
    "    return df\n",
    "\n",
    "# making summed cols (pts + reb, etc.)\n",
    "\n",
    "# pts + reb + ast column\n",
    "def points_reb_ast(df):\n",
    "    ## points + reb + ast\n",
    "    x = df['pts'].tolist()\n",
    "    y = df['reb'].tolist()\n",
    "    z = df['ast'].tolist()\n",
    "    # sum each element in xyz\n",
    "    xyz = [sum(i) for i in zip(x, y, z)]\n",
    "    df['p_r_a'] = xyz\n",
    "\n",
    "    return df\n",
    "\n",
    "# blk + stl column\n",
    "def blk_stl(df):\n",
    "    # blk + stl\n",
    "    x = df['blk'].tolist()\n",
    "    y = df['stl'].tolist()\n",
    "    # sum each element in xy\n",
    "    xy = [sum(i) for i in zip(x, y)]\n",
    "    df['b_s'] = xy\n",
    "\n",
    "    return df\n",
    "\n",
    "# pts + ast\n",
    "def pts_ast(df):\n",
    "    # pts + ast\n",
    "    x = df['pts'].tolist()\n",
    "    y = df['ast'].tolist()\n",
    "    # sum each element in xy\n",
    "    xy = [sum(i) for i in zip(x, y)]\n",
    "    df['p_a'] = xy\n",
    "\n",
    "    return df\n",
    "\n",
    "def p_r(df):\n",
    "    df['p_r'] = df['reb'] + df['pts']\n",
    "    return df\n",
    "\n",
    "def r_a(df):\n",
    "    df['r_a'] = df['reb'] + df['ast']\n",
    "    return df\n",
    "\n",
    "# encode time into features\n",
    "def encode_dates(df):\n",
    "    # convert date to datetime\n",
    "    df['date'] = pd.to_datetime(df['date'])\n",
    "    # extract year, month, day\n",
    "    df['year'] = df['date'].dt.year\n",
    "    df['month'] = df['date'].dt.month\n",
    "    df['day'] = df['date'].dt.day\n",
    "    # get day of week (1=mon, 7=sun)\n",
    "    df['weekday'] = df['date'].dt.isocalendar().day\n",
    "    # Determine if the date is on a weekend (Saturday or Sunday)\n",
    "    df['weekend'] = (df['date'].dt.weekday >= 5).astype(int)\n",
    "\n",
    "    return df\n",
    "\n",
    "# encode rest of columns\n",
    "# getting object cols\n",
    "def get_obj_cols(df):\n",
    "    tempo = df.select_dtypes(include=['object'])\n",
    "    return tempo\n",
    "\n",
    "# encode temp_df\n",
    "def encoder(df):\n",
    "    global opps\n",
    "    opps = df['opp']\n",
    "    df = encode_dates(df)\n",
    "    # get object cols into temp_df\n",
    "    tempo = get_obj_cols(df)\n",
    "    # encode\n",
    "    le = LabelEncoder()\n",
    "    tempo = tempo.apply(le.fit_transform)\n",
    "    # drop old cols\n",
    "    df = df.drop(columns=tempo.columns)\n",
    "    # add new cols\n",
    "    df = pd.concat([df, tempo], axis=1)\n",
    "    # rename opps\n",
    "    df['opp'] = opps\n",
    "    \n",
    "    return df\n",
    "\n",
    "# DOUBLE DOUBle\n",
    "def dbl(df):\n",
    "    # Function to check if a row has a double-double\n",
    "    def has_double_double(row):\n",
    "        return sum(row[col] >= 10 for col in ['pts', 'reb', 'ast']) >= 2\n",
    "\n",
    "    # Apply the function to each row and assign 0 or 1\n",
    "    df['dbl'] = df.apply(has_double_double, axis=1).astype(int)\n",
    "    return df\n",
    "\n",
    "# etl function refactoring\n",
    "def etl(df):\n",
    "    # make copy of df\n",
    "    copy = df.copy()\n",
    "    \n",
    "    # run functions\n",
    "    copy = to_numeric(copy)\n",
    "    copy = missing_vals(copy)\n",
    "    copy = make_cols_lower(copy)\n",
    "    copy = naming(copy)\n",
    "    copy = convert_mp(copy)\n",
    "    ## optional\n",
    "    ## copy = encoder(copy)\n",
    "    copy = use_split(copy)\n",
    "    copy = deduplicate(copy)\n",
    "    copy = mutate(copy)\n",
    "    copy = points_reb_ast(copy)\n",
    "    copy = blk_stl(copy)\n",
    "    copy = pts_ast(copy)\n",
    "    copy = p_r(copy)\n",
    "    copy = r_a(copy)\n",
    "    copy = dbl(copy)\n",
    "    \n",
    "    return copy\n",
    "\n",
    "# scatter() of stat vs time\n",
    "def scatter(df, stat, line):\n",
    "    fig = px.scatter(df, x='date', y=stat, color = 'opp', template=\"plotly_dark\")\n",
    "    fig = fig.add_hline(y=line, line_dash=\"dash\", annotation_text=\"line\", annotation_position=\"bottom right\")\n",
    "\n",
    "    return fig.show()"
   ]
  },
  {
   "cell_type": "markdown",
   "metadata": {},
   "source": [
    "# usage "
   ]
  },
  {
   "cell_type": "code",
   "execution_count": 17,
   "metadata": {},
   "outputs": [],
   "source": [
    "p = input(\"enter player name: \")\n",
    "# practice\n",
    "og = collect(p)\n",
    "\n",
    "df = etl(og)\n"
   ]
  },
  {
   "cell_type": "code",
   "execution_count": 18,
   "metadata": {},
   "outputs": [
    {
     "name": "stdout",
     "output_type": "stream",
     "text": [
      "['g', 'date', 'age', 'tm', 'opp', 'gs', 'mp', 'fg', 'fga', 'fg%', '3p', '3pa', '3p%', 'ft', 'fta', 'ft%', 'orb', 'drb', 'reb', 'ast', 'stl', 'blk', 'tov', 'pf', 'pts', 'gmsc', '+/-', 'home', 'win', 'by', 'p_r_a', 'b_s', 'p_a', 'p_r', 'r_a', 'dbl']\n"
     ]
    },
    {
     "data": {
      "application/vnd.plotly.v1+json": {
       "config": {
        "plotlyServerURL": "https://plot.ly"
       },
       "data": [
        {
         "hovertemplate": "opp=MIL<br>date=%{x}<br>3p=%{y}<extra></extra>",
         "legendgroup": "MIL",
         "marker": {
          "color": "#636efa",
          "symbol": "circle"
         },
         "mode": "markers",
         "name": "MIL",
         "orientation": "v",
         "showlegend": true,
         "type": "scatter",
         "x": [
          "2019-10-24T00:00:00",
          "2020-08-02T00:00:00",
          "2021-01-18T00:00:00",
          "2021-10-19T00:00:00",
          "2022-01-07T00:00:00",
          "2022-03-29T00:00:00",
          "2022-10-20T00:00:00",
          "2023-03-04T00:00:00",
          "2023-04-02T00:00:00"
         ],
         "xaxis": "x",
         "y": [
          1,
          3,
          3,
          4,
          1,
          4,
          1,
          5,
          1
         ],
         "yaxis": "y"
        },
        {
         "hovertemplate": "opp=NOP<br>date=%{x}<br>3p=%{y}<extra></extra>",
         "legendgroup": "NOP",
         "marker": {
          "color": "#EF553B",
          "symbol": "circle"
         },
         "mode": "markers",
         "name": "NOP",
         "orientation": "v",
         "showlegend": true,
         "type": "scatter",
         "x": [
          "2019-10-26T00:00:00",
          "2019-11-11T00:00:00",
          "2020-02-02T00:00:00",
          "2021-11-12T00:00:00",
          "2022-01-15T00:00:00",
          "2022-12-30T00:00:00",
          "2023-01-02T00:00:00"
         ],
         "xaxis": "x",
         "y": [
          2,
          3,
          7,
          6,
          2,
          4,
          3
         ],
         "yaxis": "y"
        },
        {
         "hovertemplate": "opp=OKC<br>date=%{x}<br>3p=%{y}<extra></extra>",
         "legendgroup": "OKC",
         "marker": {
          "color": "#00cc96",
          "symbol": "circle"
         },
         "mode": "markers",
         "name": "OKC",
         "orientation": "v",
         "showlegend": true,
         "type": "scatter",
         "x": [
          "2019-10-28T00:00:00",
          "2020-01-09T00:00:00",
          "2020-01-20T00:00:00",
          "2021-01-29T00:00:00",
          "2021-11-14T00:00:00",
          "2022-01-13T00:00:00",
          "2023-01-12T00:00:00"
         ],
         "xaxis": "x",
         "y": [
          3,
          2,
          1,
          3,
          1,
          3,
          5
         ],
         "yaxis": "y"
        },
        {
         "hovertemplate": "opp=WAS<br>date=%{x}<br>3p=%{y}<extra></extra>",
         "legendgroup": "WAS",
         "marker": {
          "color": "#ab63fa",
          "symbol": "circle"
         },
         "mode": "markers",
         "name": "WAS",
         "orientation": "v",
         "showlegend": true,
         "type": "scatter",
         "x": [
          "2019-10-30T00:00:00",
          "2021-03-21T00:00:00",
          "2021-10-25T00:00:00",
          "2022-01-19T00:00:00",
          "2022-10-31T00:00:00",
          "2022-11-02T00:00:00",
          "2022-12-27T00:00:00",
          "2023-03-12T00:00:00"
         ],
         "xaxis": "x",
         "y": [
          6,
          3,
          1,
          0,
          2,
          3,
          2,
          3
         ],
         "yaxis": "y"
        },
        {
         "hovertemplate": "opp=BRK<br>date=%{x}<br>3p=%{y}<extra></extra>",
         "legendgroup": "BRK",
         "marker": {
          "color": "#FFA15A",
          "symbol": "circle"
         },
         "mode": "markers",
         "name": "BRK",
         "orientation": "v",
         "showlegend": true,
         "type": "scatter",
         "x": [
          "2019-11-01T00:00:00",
          "2019-12-28T00:00:00",
          "2022-03-10T00:00:00",
          "2023-01-25T00:00:00",
          "2023-02-11T00:00:00"
         ],
         "xaxis": "x",
         "y": [
          2,
          6,
          3,
          5,
          2
         ],
         "yaxis": "y"
        },
        {
         "hovertemplate": "opp=MIA<br>date=%{x}<br>3p=%{y}<extra></extra>",
         "legendgroup": "MIA",
         "marker": {
          "color": "#19d3f3",
          "symbol": "circle"
         },
         "mode": "markers",
         "name": "MIA",
         "orientation": "v",
         "showlegend": true,
         "type": "scatter",
         "x": [
          "2019-11-03T00:00:00",
          "2019-11-27T00:00:00",
          "2021-01-23T00:00:00",
          "2021-01-25T00:00:00",
          "2021-10-27T00:00:00",
          "2023-02-27T00:00:00",
          "2023-03-01T00:00:00",
          "2023-04-06T00:00:00"
         ],
         "xaxis": "x",
         "y": [
          3,
          7,
          0,
          3,
          3,
          3,
          4,
          2
         ],
         "yaxis": "y"
        },
        {
         "hovertemplate": "opp=MEM<br>date=%{x}<br>3p=%{y}<extra></extra>",
         "legendgroup": "MEM",
         "marker": {
          "color": "#FF6692",
          "symbol": "circle"
         },
         "mode": "markers",
         "name": "MEM",
         "orientation": "v",
         "showlegend": true,
         "type": "scatter",
         "x": [
          "2019-11-04T00:00:00",
          "2020-01-14T00:00:00",
          "2020-02-26T00:00:00",
          "2022-01-03T00:00:00",
          "2023-02-23T00:00:00"
         ],
         "xaxis": "x",
         "y": [
          7,
          5,
          7,
          2,
          6
         ],
         "yaxis": "y"
        },
        {
         "hovertemplate": "opp=GSW<br>date=%{x}<br>3p=%{y}<extra></extra>",
         "legendgroup": "GSW",
         "marker": {
          "color": "#B6E880",
          "symbol": "circle"
         },
         "mode": "markers",
         "name": "GSW",
         "orientation": "v",
         "showlegend": true,
         "type": "scatter",
         "x": [
          "2019-11-06T00:00:00",
          "2019-12-25T00:00:00",
          "2020-02-20T00:00:00",
          "2021-02-13T00:00:00",
          "2021-11-16T00:00:00",
          "2022-12-16T00:00:00"
         ],
         "xaxis": "x",
         "y": [
          6,
          6,
          3,
          5,
          2,
          4
         ],
         "yaxis": "y"
        },
        {
         "hovertemplate": "opp=CHI<br>date=%{x}<br>3p=%{y}<extra></extra>",
         "legendgroup": "CHI",
         "marker": {
          "color": "#FF97FF",
          "symbol": "circle"
         },
         "mode": "markers",
         "name": "CHI",
         "orientation": "v",
         "showlegend": true,
         "type": "scatter",
         "x": [
          "2019-11-09T00:00:00",
          "2021-05-15T00:00:00",
          "2021-11-08T00:00:00",
          "2021-12-04T00:00:00",
          "2022-01-12T00:00:00",
          "2022-03-07T00:00:00",
          "2022-10-29T00:00:00",
          "2023-01-06T00:00:00",
          "2023-03-20T00:00:00"
         ],
         "xaxis": "x",
         "y": [
          9,
          1,
          3,
          1,
          5,
          1,
          0,
          3,
          0
         ],
         "yaxis": "y"
        },
        {
         "hovertemplate": "opp=LAC<br>date=%{x}<br>3p=%{y}<extra></extra>",
         "legendgroup": "LAC",
         "marker": {
          "color": "#FECB52",
          "symbol": "circle"
         },
         "mode": "markers",
         "name": "LAC",
         "orientation": "v",
         "showlegend": true,
         "type": "scatter",
         "x": [
          "2019-11-13T00:00:00",
          "2019-11-22T00:00:00",
          "2019-12-19T00:00:00",
          "2020-03-05T00:00:00",
          "2021-02-02T00:00:00",
          "2021-02-21T00:00:00",
          "2021-12-27T00:00:00",
          "2022-01-01T00:00:00",
          "2022-03-25T00:00:00",
          "2022-12-23T00:00:00",
          "2023-01-17T00:00:00"
         ],
         "xaxis": "x",
         "y": [
          7,
          5,
          5,
          0,
          1,
          4,
          4,
          3,
          4,
          3,
          0
         ],
         "yaxis": "y"
        },
        {
         "hovertemplate": "opp=IND<br>date=%{x}<br>3p=%{y}<extra></extra>",
         "legendgroup": "IND",
         "marker": {
          "color": "#636efa",
          "symbol": "circle"
         },
         "mode": "markers",
         "name": "IND",
         "orientation": "v",
         "showlegend": true,
         "type": "scatter",
         "x": [
          "2019-11-15T00:00:00",
          "2020-08-12T00:00:00",
          "2021-01-06T00:00:00",
          "2021-02-10T00:00:00",
          "2021-03-17T00:00:00",
          "2021-10-29T00:00:00",
          "2022-01-05T00:00:00",
          "2022-04-05T00:00:00",
          "2022-04-09T00:00:00",
          "2022-10-24T00:00:00",
          "2023-01-04T00:00:00",
          "2023-03-06T00:00:00"
         ],
         "xaxis": "x",
         "y": [
          6,
          7,
          1,
          1,
          2,
          3,
          0,
          2,
          2,
          5,
          2,
          1
         ],
         "yaxis": "y"
        },
        {
         "hovertemplate": "opp=MIN<br>date=%{x}<br>3p=%{y}<extra></extra>",
         "legendgroup": "MIN",
         "marker": {
          "color": "#EF553B",
          "symbol": "circle"
         },
         "mode": "markers",
         "name": "MIN",
         "orientation": "v",
         "showlegend": true,
         "type": "scatter",
         "x": [
          "2019-11-16T00:00:00",
          "2020-01-11T00:00:00",
          "2020-01-24T00:00:00",
          "2020-03-10T00:00:00",
          "2021-03-29T00:00:00",
          "2021-12-03T00:00:00",
          "2022-01-23T00:00:00",
          "2022-02-25T00:00:00"
         ],
         "xaxis": "x",
         "y": [
          8,
          6,
          0,
          5,
          4,
          0,
          1,
          5
         ],
         "yaxis": "y"
        },
        {
         "hovertemplate": "opp=POR<br>date=%{x}<br>3p=%{y}<extra></extra>",
         "legendgroup": "POR",
         "marker": {
          "color": "#00cc96",
          "symbol": "circle"
         },
         "mode": "markers",
         "name": "POR",
         "orientation": "v",
         "showlegend": true,
         "type": "scatter",
         "x": [
          "2019-11-18T00:00:00",
          "2020-01-15T00:00:00",
          "2020-01-29T00:00:00",
          "2020-08-04T00:00:00",
          "2020-12-26T00:00:00",
          "2021-03-23T00:00:00",
          "2023-01-19T00:00:00",
          "2023-03-10T00:00:00"
         ],
         "xaxis": "x",
         "y": [
          5,
          1,
          2,
          3,
          6,
          0,
          1,
          2
         ],
         "yaxis": "y"
        },
        {
         "hovertemplate": "opp=DEN<br>date=%{x}<br>3p=%{y}<extra></extra>",
         "legendgroup": "DEN",
         "marker": {
          "color": "#ab63fa",
          "symbol": "circle"
         },
         "mode": "markers",
         "name": "DEN",
         "orientation": "v",
         "showlegend": true,
         "type": "scatter",
         "x": [
          "2019-11-20T00:00:00",
          "2019-12-31T00:00:00",
          "2020-01-22T00:00:00",
          "2020-12-28T00:00:00",
          "2022-03-14T00:00:00",
          "2023-01-28T00:00:00"
         ],
         "xaxis": "x",
         "y": [
          4,
          6,
          2,
          5,
          1,
          3
         ],
         "yaxis": "y"
        },
        {
         "hovertemplate": "opp=DAL<br>date=%{x}<br>3p=%{y}<extra></extra>",
         "legendgroup": "DAL",
         "marker": {
          "color": "#FFA15A",
          "symbol": "circle"
         },
         "mode": "markers",
         "name": "DAL",
         "orientation": "v",
         "showlegend": true,
         "type": "scatter",
         "x": [
          "2019-11-24T00:00:00",
          "2020-01-31T00:00:00",
          "2020-07-31T00:00:00",
          "2021-01-04T00:00:00",
          "2021-02-27T00:00:00",
          "2021-12-07T00:00:00",
          "2022-03-18T00:00:00",
          "2023-03-02T00:00:00",
          "2023-03-29T00:00:00"
         ],
         "xaxis": "x",
         "y": [
          2,
          6,
          3,
          3,
          4,
          3,
          3,
          5,
          2
         ],
         "yaxis": "y"
        },
        {
         "hovertemplate": "opp=ATL<br>date=%{x}<br>3p=%{y}<extra></extra>",
         "legendgroup": "ATL",
         "marker": {
          "color": "#19d3f3",
          "symbol": "circle"
         },
         "mode": "markers",
         "name": "ATL",
         "orientation": "v",
         "showlegend": true,
         "type": "scatter",
         "x": [
          "2019-11-30T00:00:00",
          "2020-01-08T00:00:00",
          "2021-01-27T00:00:00",
          "2021-11-03T00:00:00",
          "2021-12-10T00:00:00"
         ],
         "xaxis": "x",
         "y": [
          8,
          4,
          5,
          5,
          0
         ],
         "yaxis": "y"
        },
        {
         "hovertemplate": "opp=SAS<br>date=%{x}<br>3p=%{y}<extra></extra>",
         "legendgroup": "SAS",
         "marker": {
          "color": "#FF6692",
          "symbol": "circle"
         },
         "mode": "markers",
         "name": "SAS",
         "orientation": "v",
         "showlegend": true,
         "type": "scatter",
         "x": [
          "2019-12-03T00:00:00",
          "2019-12-16T00:00:00",
          "2021-03-01T00:00:00",
          "2021-05-12T00:00:00",
          "2022-01-09T00:00:00",
          "2022-01-21T00:00:00",
          "2022-10-22T00:00:00",
          "2023-02-03T00:00:00"
         ],
         "xaxis": "x",
         "y": [
          4,
          4,
          3,
          3,
          2,
          4,
          1,
          2
         ],
         "yaxis": "y"
        },
        {
         "hovertemplate": "opp=TOR<br>date=%{x}<br>3p=%{y}<extra></extra>",
         "legendgroup": "TOR",
         "marker": {
          "color": "#B6E880",
          "symbol": "circle"
         },
         "mode": "markers",
         "name": "TOR",
         "orientation": "v",
         "showlegend": true,
         "type": "scatter",
         "x": [
          "2019-12-05T00:00:00",
          "2021-02-05T00:00:00",
          "2021-11-07T00:00:00",
          "2022-03-20T00:00:00",
          "2022-04-07T00:00:00",
          "2022-10-26T00:00:00",
          "2022-10-28T00:00:00",
          "2022-12-19T00:00:00",
          "2023-03-31T00:00:00"
         ],
         "xaxis": "x",
         "y": [
          3,
          2,
          3,
          0,
          1,
          3,
          0,
          1,
          3
         ],
         "yaxis": "y"
        },
        {
         "hovertemplate": "opp=PHO<br>date=%{x}<br>3p=%{y}<extra></extra>",
         "legendgroup": "PHO",
         "marker": {
          "color": "#FF97FF",
          "symbol": "circle"
         },
         "mode": "markers",
         "name": "PHO",
         "orientation": "v",
         "showlegend": true,
         "type": "scatter",
         "x": [
          "2019-12-07T00:00:00",
          "2019-12-21T00:00:00",
          "2020-02-07T00:00:00",
          "2021-02-16T00:00:00",
          "2021-11-27T00:00:00",
          "2022-02-01T00:00:00",
          "2022-03-27T00:00:00"
         ],
         "xaxis": "x",
         "y": [
          3,
          9,
          5,
          5,
          0,
          3,
          2
         ],
         "yaxis": "y"
        },
        {
         "hovertemplate": "opp=SAC<br>date=%{x}<br>3p=%{y}<extra></extra>",
         "legendgroup": "SAC",
         "marker": {
          "color": "#FECB52",
          "symbol": "circle"
         },
         "mode": "markers",
         "name": "SAC",
         "orientation": "v",
         "showlegend": true,
         "type": "scatter",
         "x": [
          "2019-12-09T00:00:00",
          "2019-12-23T00:00:00",
          "2020-08-09T00:00:00",
          "2020-12-31T00:00:00",
          "2021-02-15T00:00:00",
          "2021-02-23T00:00:00",
          "2022-02-02T00:00:00",
          "2022-12-13T00:00:00"
         ],
         "xaxis": "x",
         "y": [
          3,
          4,
          3,
          4,
          6,
          5,
          0,
          4
         ],
         "yaxis": "y"
        },
        {
         "hovertemplate": "opp=CLE<br>date=%{x}<br>3p=%{y}<extra></extra>",
         "legendgroup": "CLE",
         "marker": {
          "color": "#636efa",
          "symbol": "circle"
         },
         "mode": "markers",
         "name": "CLE",
         "orientation": "v",
         "showlegend": true,
         "type": "scatter",
         "x": [
          "2019-12-11T00:00:00",
          "2021-01-20T00:00:00",
          "2021-01-22T00:00:00",
          "2021-11-17T00:00:00",
          "2021-11-22T00:00:00",
          "2022-01-17T00:00:00",
          "2022-03-04T00:00:00",
          "2022-03-16T00:00:00",
          "2022-04-03T00:00:00",
          "2023-02-15T00:00:00",
          "2023-03-15T00:00:00"
         ],
         "xaxis": "x",
         "y": [
          10,
          3,
          4,
          3,
          0,
          2,
          2,
          1,
          2,
          3,
          3
         ],
         "yaxis": "y"
        },
        {
         "hovertemplate": "opp=ORL<br>date=%{x}<br>3p=%{y}<extra></extra>",
         "legendgroup": "ORL",
         "marker": {
          "color": "#EF553B",
          "symbol": "circle"
         },
         "mode": "markers",
         "name": "ORL",
         "orientation": "v",
         "showlegend": true,
         "type": "scatter",
         "x": [
          "2019-12-13T00:00:00",
          "2020-03-08T00:00:00",
          "2021-01-08T00:00:00",
          "2021-01-16T00:00:00",
          "2021-02-25T00:00:00",
          "2021-03-19T00:00:00",
          "2021-11-10T00:00:00",
          "2021-11-19T00:00:00",
          "2022-03-13T00:00:00",
          "2023-01-30T00:00:00",
          "2023-02-01T00:00:00"
         ],
         "xaxis": "x",
         "y": [
          10,
          3,
          3,
          3,
          5,
          2,
          1,
          3,
          3,
          3,
          6
         ],
         "yaxis": "y"
        },
        {
         "hovertemplate": "opp=DET<br>date=%{x}<br>3p=%{y}<extra></extra>",
         "legendgroup": "DET",
         "marker": {
          "color": "#00cc96",
          "symbol": "circle"
         },
         "mode": "markers",
         "name": "DET",
         "orientation": "v",
         "showlegend": true,
         "type": "scatter",
         "x": [
          "2019-12-14T00:00:00",
          "2021-02-09T00:00:00",
          "2021-03-13T00:00:00",
          "2021-03-26T00:00:00",
          "2021-10-31T00:00:00",
          "2021-11-05T00:00:00",
          "2022-03-31T00:00:00",
          "2022-12-21T00:00:00",
          "2023-01-08T00:00:00",
          "2023-01-10T00:00:00"
         ],
         "xaxis": "x",
         "y": [
          4,
          1,
          0,
          4,
          4,
          3,
          2,
          2,
          3,
          2
         ],
         "yaxis": "y"
        },
        {
         "hovertemplate": "opp=PHI<br>date=%{x}<br>3p=%{y}<extra></extra>",
         "legendgroup": "PHI",
         "marker": {
          "color": "#ab63fa",
          "symbol": "circle"
         },
         "mode": "markers",
         "name": "PHI",
         "orientation": "v",
         "showlegend": true,
         "type": "scatter",
         "x": [
          "2020-01-03T00:00:00",
          "2020-08-14T00:00:00",
          "2021-02-06T00:00:00",
          "2021-10-22T00:00:00",
          "2021-12-30T00:00:00"
         ],
         "xaxis": "x",
         "y": [
          6,
          4,
          3,
          3,
          1
         ],
         "yaxis": "y"
        },
        {
         "hovertemplate": "opp=LAL<br>date=%{x}<br>3p=%{y}<extra></extra>",
         "legendgroup": "LAL",
         "marker": {
          "color": "#FFA15A",
          "symbol": "circle"
         },
         "mode": "markers",
         "name": "LAL",
         "orientation": "v",
         "showlegend": true,
         "type": "scatter",
         "x": [
          "2020-01-18T00:00:00",
          "2020-02-06T00:00:00",
          "2020-08-06T00:00:00",
          "2021-01-10T00:00:00",
          "2021-01-12T00:00:00",
          "2021-02-18T00:00:00",
          "2021-12-25T00:00:00",
          "2022-01-25T00:00:00",
          "2022-03-23T00:00:00",
          "2022-12-09T00:00:00",
          "2023-01-15T00:00:00"
         ],
         "xaxis": "x",
         "y": [
          2,
          1,
          5,
          2,
          1,
          3,
          3,
          2,
          1,
          3,
          4
         ],
         "yaxis": "y"
        },
        {
         "hovertemplate": "opp=CHO<br>date=%{x}<br>3p=%{y}<extra></extra>",
         "legendgroup": "CHO",
         "marker": {
          "color": "#19d3f3",
          "symbol": "circle"
         },
         "mode": "markers",
         "name": "CHO",
         "orientation": "v",
         "showlegend": true,
         "type": "scatter",
         "x": [
          "2020-02-04T00:00:00",
          "2020-03-07T00:00:00",
          "2021-10-24T00:00:00",
          "2022-04-02T00:00:00",
          "2022-12-11T00:00:00",
          "2023-03-17T00:00:00"
         ],
         "xaxis": "x",
         "y": [
          4,
          2,
          2,
          2,
          3,
          0
         ],
         "yaxis": "y"
        },
        {
         "hovertemplate": "opp=UTA<br>date=%{x}<br>3p=%{y}<extra></extra>",
         "legendgroup": "UTA",
         "marker": {
          "color": "#FF6692",
          "symbol": "circle"
         },
         "mode": "markers",
         "name": "UTA",
         "orientation": "v",
         "showlegend": true,
         "type": "scatter",
         "x": [
          "2020-02-09T00:00:00",
          "2020-02-22T00:00:00",
          "2023-01-14T00:00:00"
         ],
         "xaxis": "x",
         "y": [
          2,
          6,
          4
         ],
         "yaxis": "y"
        },
        {
         "hovertemplate": "opp=BOS<br>date=%{x}<br>3p=%{y}<extra></extra>",
         "legendgroup": "BOS",
         "marker": {
          "color": "#B6E880",
          "symbol": "circle"
         },
         "mode": "markers",
         "name": "BOS",
         "orientation": "v",
         "showlegend": true,
         "type": "scatter",
         "x": [
          "2020-02-11T00:00:00",
          "2020-02-29T00:00:00",
          "2021-03-11T00:00:00",
          "2021-11-24T00:00:00",
          "2022-10-18T00:00:00",
          "2023-02-08T00:00:00",
          "2023-02-25T00:00:00",
          "2023-04-04T00:00:00"
         ],
         "xaxis": "x",
         "y": [
          7,
          4,
          1,
          4,
          5,
          3,
          2,
          4
         ],
         "yaxis": "y"
        },
        {
         "hovertemplate": "opp=NYK<br>date=%{x}<br>3p=%{y}<extra></extra>",
         "legendgroup": "NYK",
         "marker": {
          "color": "#FF97FF",
          "symbol": "circle"
         },
         "mode": "markers",
         "name": "NYK",
         "orientation": "v",
         "showlegend": true,
         "type": "scatter",
         "x": [
          "2020-02-24T00:00:00",
          "2020-03-02T00:00:00",
          "2021-03-15T00:00:00",
          "2021-04-05T00:00:00",
          "2021-11-30T00:00:00",
          "2022-02-27T00:00:00",
          "2022-03-02T00:00:00",
          "2022-12-25T00:00:00",
          "2023-02-05T00:00:00",
          "2023-02-10T00:00:00"
         ],
         "xaxis": "x",
         "y": [
          4,
          3,
          0,
          0,
          3,
          3,
          2,
          5,
          0,
          2
         ],
         "yaxis": "y"
        },
        {
         "hovertemplate": "opp=HOU<br>date=%{x}<br>3p=%{y}<extra></extra>",
         "legendgroup": "HOU",
         "marker": {
          "color": "#FECB52",
          "symbol": "circle"
         },
         "mode": "markers",
         "name": "HOU",
         "orientation": "v",
         "showlegend": true,
         "type": "scatter",
         "x": [
          "2021-03-03T00:00:00",
          "2021-03-31T00:00:00",
          "2021-12-08T00:00:00",
          "2022-12-05T00:00:00",
          "2023-02-13T00:00:00"
         ],
         "xaxis": "x",
         "y": [
          4,
          0,
          3,
          4,
          4
         ],
         "yaxis": "y"
        }
       ],
       "layout": {
        "annotations": [
         {
          "showarrow": false,
          "text": "line",
          "x": 1,
          "xanchor": "right",
          "xref": "x domain",
          "y": 2.5,
          "yanchor": "top",
          "yref": "y"
         }
        ],
        "legend": {
         "title": {
          "text": "opp"
         },
         "tracegroupgap": 0
        },
        "margin": {
         "t": 60
        },
        "shapes": [
         {
          "line": {
           "dash": "dash"
          },
          "type": "line",
          "x0": 0,
          "x1": 1,
          "xref": "x domain",
          "y0": 2.5,
          "y1": 2.5,
          "yref": "y"
         }
        ],
        "template": {
         "data": {
          "bar": [
           {
            "error_x": {
             "color": "#f2f5fa"
            },
            "error_y": {
             "color": "#f2f5fa"
            },
            "marker": {
             "line": {
              "color": "rgb(17,17,17)",
              "width": 0.5
             },
             "pattern": {
              "fillmode": "overlay",
              "size": 10,
              "solidity": 0.2
             }
            },
            "type": "bar"
           }
          ],
          "barpolar": [
           {
            "marker": {
             "line": {
              "color": "rgb(17,17,17)",
              "width": 0.5
             },
             "pattern": {
              "fillmode": "overlay",
              "size": 10,
              "solidity": 0.2
             }
            },
            "type": "barpolar"
           }
          ],
          "carpet": [
           {
            "aaxis": {
             "endlinecolor": "#A2B1C6",
             "gridcolor": "#506784",
             "linecolor": "#506784",
             "minorgridcolor": "#506784",
             "startlinecolor": "#A2B1C6"
            },
            "baxis": {
             "endlinecolor": "#A2B1C6",
             "gridcolor": "#506784",
             "linecolor": "#506784",
             "minorgridcolor": "#506784",
             "startlinecolor": "#A2B1C6"
            },
            "type": "carpet"
           }
          ],
          "choropleth": [
           {
            "colorbar": {
             "outlinewidth": 0,
             "ticks": ""
            },
            "type": "choropleth"
           }
          ],
          "contour": [
           {
            "colorbar": {
             "outlinewidth": 0,
             "ticks": ""
            },
            "colorscale": [
             [
              0,
              "#0d0887"
             ],
             [
              0.1111111111111111,
              "#46039f"
             ],
             [
              0.2222222222222222,
              "#7201a8"
             ],
             [
              0.3333333333333333,
              "#9c179e"
             ],
             [
              0.4444444444444444,
              "#bd3786"
             ],
             [
              0.5555555555555556,
              "#d8576b"
             ],
             [
              0.6666666666666666,
              "#ed7953"
             ],
             [
              0.7777777777777778,
              "#fb9f3a"
             ],
             [
              0.8888888888888888,
              "#fdca26"
             ],
             [
              1,
              "#f0f921"
             ]
            ],
            "type": "contour"
           }
          ],
          "contourcarpet": [
           {
            "colorbar": {
             "outlinewidth": 0,
             "ticks": ""
            },
            "type": "contourcarpet"
           }
          ],
          "heatmap": [
           {
            "colorbar": {
             "outlinewidth": 0,
             "ticks": ""
            },
            "colorscale": [
             [
              0,
              "#0d0887"
             ],
             [
              0.1111111111111111,
              "#46039f"
             ],
             [
              0.2222222222222222,
              "#7201a8"
             ],
             [
              0.3333333333333333,
              "#9c179e"
             ],
             [
              0.4444444444444444,
              "#bd3786"
             ],
             [
              0.5555555555555556,
              "#d8576b"
             ],
             [
              0.6666666666666666,
              "#ed7953"
             ],
             [
              0.7777777777777778,
              "#fb9f3a"
             ],
             [
              0.8888888888888888,
              "#fdca26"
             ],
             [
              1,
              "#f0f921"
             ]
            ],
            "type": "heatmap"
           }
          ],
          "heatmapgl": [
           {
            "colorbar": {
             "outlinewidth": 0,
             "ticks": ""
            },
            "colorscale": [
             [
              0,
              "#0d0887"
             ],
             [
              0.1111111111111111,
              "#46039f"
             ],
             [
              0.2222222222222222,
              "#7201a8"
             ],
             [
              0.3333333333333333,
              "#9c179e"
             ],
             [
              0.4444444444444444,
              "#bd3786"
             ],
             [
              0.5555555555555556,
              "#d8576b"
             ],
             [
              0.6666666666666666,
              "#ed7953"
             ],
             [
              0.7777777777777778,
              "#fb9f3a"
             ],
             [
              0.8888888888888888,
              "#fdca26"
             ],
             [
              1,
              "#f0f921"
             ]
            ],
            "type": "heatmapgl"
           }
          ],
          "histogram": [
           {
            "marker": {
             "pattern": {
              "fillmode": "overlay",
              "size": 10,
              "solidity": 0.2
             }
            },
            "type": "histogram"
           }
          ],
          "histogram2d": [
           {
            "colorbar": {
             "outlinewidth": 0,
             "ticks": ""
            },
            "colorscale": [
             [
              0,
              "#0d0887"
             ],
             [
              0.1111111111111111,
              "#46039f"
             ],
             [
              0.2222222222222222,
              "#7201a8"
             ],
             [
              0.3333333333333333,
              "#9c179e"
             ],
             [
              0.4444444444444444,
              "#bd3786"
             ],
             [
              0.5555555555555556,
              "#d8576b"
             ],
             [
              0.6666666666666666,
              "#ed7953"
             ],
             [
              0.7777777777777778,
              "#fb9f3a"
             ],
             [
              0.8888888888888888,
              "#fdca26"
             ],
             [
              1,
              "#f0f921"
             ]
            ],
            "type": "histogram2d"
           }
          ],
          "histogram2dcontour": [
           {
            "colorbar": {
             "outlinewidth": 0,
             "ticks": ""
            },
            "colorscale": [
             [
              0,
              "#0d0887"
             ],
             [
              0.1111111111111111,
              "#46039f"
             ],
             [
              0.2222222222222222,
              "#7201a8"
             ],
             [
              0.3333333333333333,
              "#9c179e"
             ],
             [
              0.4444444444444444,
              "#bd3786"
             ],
             [
              0.5555555555555556,
              "#d8576b"
             ],
             [
              0.6666666666666666,
              "#ed7953"
             ],
             [
              0.7777777777777778,
              "#fb9f3a"
             ],
             [
              0.8888888888888888,
              "#fdca26"
             ],
             [
              1,
              "#f0f921"
             ]
            ],
            "type": "histogram2dcontour"
           }
          ],
          "mesh3d": [
           {
            "colorbar": {
             "outlinewidth": 0,
             "ticks": ""
            },
            "type": "mesh3d"
           }
          ],
          "parcoords": [
           {
            "line": {
             "colorbar": {
              "outlinewidth": 0,
              "ticks": ""
             }
            },
            "type": "parcoords"
           }
          ],
          "pie": [
           {
            "automargin": true,
            "type": "pie"
           }
          ],
          "scatter": [
           {
            "marker": {
             "line": {
              "color": "#283442"
             }
            },
            "type": "scatter"
           }
          ],
          "scatter3d": [
           {
            "line": {
             "colorbar": {
              "outlinewidth": 0,
              "ticks": ""
             }
            },
            "marker": {
             "colorbar": {
              "outlinewidth": 0,
              "ticks": ""
             }
            },
            "type": "scatter3d"
           }
          ],
          "scattercarpet": [
           {
            "marker": {
             "colorbar": {
              "outlinewidth": 0,
              "ticks": ""
             }
            },
            "type": "scattercarpet"
           }
          ],
          "scattergeo": [
           {
            "marker": {
             "colorbar": {
              "outlinewidth": 0,
              "ticks": ""
             }
            },
            "type": "scattergeo"
           }
          ],
          "scattergl": [
           {
            "marker": {
             "line": {
              "color": "#283442"
             }
            },
            "type": "scattergl"
           }
          ],
          "scattermapbox": [
           {
            "marker": {
             "colorbar": {
              "outlinewidth": 0,
              "ticks": ""
             }
            },
            "type": "scattermapbox"
           }
          ],
          "scatterpolar": [
           {
            "marker": {
             "colorbar": {
              "outlinewidth": 0,
              "ticks": ""
             }
            },
            "type": "scatterpolar"
           }
          ],
          "scatterpolargl": [
           {
            "marker": {
             "colorbar": {
              "outlinewidth": 0,
              "ticks": ""
             }
            },
            "type": "scatterpolargl"
           }
          ],
          "scatterternary": [
           {
            "marker": {
             "colorbar": {
              "outlinewidth": 0,
              "ticks": ""
             }
            },
            "type": "scatterternary"
           }
          ],
          "surface": [
           {
            "colorbar": {
             "outlinewidth": 0,
             "ticks": ""
            },
            "colorscale": [
             [
              0,
              "#0d0887"
             ],
             [
              0.1111111111111111,
              "#46039f"
             ],
             [
              0.2222222222222222,
              "#7201a8"
             ],
             [
              0.3333333333333333,
              "#9c179e"
             ],
             [
              0.4444444444444444,
              "#bd3786"
             ],
             [
              0.5555555555555556,
              "#d8576b"
             ],
             [
              0.6666666666666666,
              "#ed7953"
             ],
             [
              0.7777777777777778,
              "#fb9f3a"
             ],
             [
              0.8888888888888888,
              "#fdca26"
             ],
             [
              1,
              "#f0f921"
             ]
            ],
            "type": "surface"
           }
          ],
          "table": [
           {
            "cells": {
             "fill": {
              "color": "#506784"
             },
             "line": {
              "color": "rgb(17,17,17)"
             }
            },
            "header": {
             "fill": {
              "color": "#2a3f5f"
             },
             "line": {
              "color": "rgb(17,17,17)"
             }
            },
            "type": "table"
           }
          ]
         },
         "layout": {
          "annotationdefaults": {
           "arrowcolor": "#f2f5fa",
           "arrowhead": 0,
           "arrowwidth": 1
          },
          "autotypenumbers": "strict",
          "coloraxis": {
           "colorbar": {
            "outlinewidth": 0,
            "ticks": ""
           }
          },
          "colorscale": {
           "diverging": [
            [
             0,
             "#8e0152"
            ],
            [
             0.1,
             "#c51b7d"
            ],
            [
             0.2,
             "#de77ae"
            ],
            [
             0.3,
             "#f1b6da"
            ],
            [
             0.4,
             "#fde0ef"
            ],
            [
             0.5,
             "#f7f7f7"
            ],
            [
             0.6,
             "#e6f5d0"
            ],
            [
             0.7,
             "#b8e186"
            ],
            [
             0.8,
             "#7fbc41"
            ],
            [
             0.9,
             "#4d9221"
            ],
            [
             1,
             "#276419"
            ]
           ],
           "sequential": [
            [
             0,
             "#0d0887"
            ],
            [
             0.1111111111111111,
             "#46039f"
            ],
            [
             0.2222222222222222,
             "#7201a8"
            ],
            [
             0.3333333333333333,
             "#9c179e"
            ],
            [
             0.4444444444444444,
             "#bd3786"
            ],
            [
             0.5555555555555556,
             "#d8576b"
            ],
            [
             0.6666666666666666,
             "#ed7953"
            ],
            [
             0.7777777777777778,
             "#fb9f3a"
            ],
            [
             0.8888888888888888,
             "#fdca26"
            ],
            [
             1,
             "#f0f921"
            ]
           ],
           "sequentialminus": [
            [
             0,
             "#0d0887"
            ],
            [
             0.1111111111111111,
             "#46039f"
            ],
            [
             0.2222222222222222,
             "#7201a8"
            ],
            [
             0.3333333333333333,
             "#9c179e"
            ],
            [
             0.4444444444444444,
             "#bd3786"
            ],
            [
             0.5555555555555556,
             "#d8576b"
            ],
            [
             0.6666666666666666,
             "#ed7953"
            ],
            [
             0.7777777777777778,
             "#fb9f3a"
            ],
            [
             0.8888888888888888,
             "#fdca26"
            ],
            [
             1,
             "#f0f921"
            ]
           ]
          },
          "colorway": [
           "#636efa",
           "#EF553B",
           "#00cc96",
           "#ab63fa",
           "#FFA15A",
           "#19d3f3",
           "#FF6692",
           "#B6E880",
           "#FF97FF",
           "#FECB52"
          ],
          "font": {
           "color": "#f2f5fa"
          },
          "geo": {
           "bgcolor": "rgb(17,17,17)",
           "lakecolor": "rgb(17,17,17)",
           "landcolor": "rgb(17,17,17)",
           "showlakes": true,
           "showland": true,
           "subunitcolor": "#506784"
          },
          "hoverlabel": {
           "align": "left"
          },
          "hovermode": "closest",
          "mapbox": {
           "style": "dark"
          },
          "paper_bgcolor": "rgb(17,17,17)",
          "plot_bgcolor": "rgb(17,17,17)",
          "polar": {
           "angularaxis": {
            "gridcolor": "#506784",
            "linecolor": "#506784",
            "ticks": ""
           },
           "bgcolor": "rgb(17,17,17)",
           "radialaxis": {
            "gridcolor": "#506784",
            "linecolor": "#506784",
            "ticks": ""
           }
          },
          "scene": {
           "xaxis": {
            "backgroundcolor": "rgb(17,17,17)",
            "gridcolor": "#506784",
            "gridwidth": 2,
            "linecolor": "#506784",
            "showbackground": true,
            "ticks": "",
            "zerolinecolor": "#C8D4E3"
           },
           "yaxis": {
            "backgroundcolor": "rgb(17,17,17)",
            "gridcolor": "#506784",
            "gridwidth": 2,
            "linecolor": "#506784",
            "showbackground": true,
            "ticks": "",
            "zerolinecolor": "#C8D4E3"
           },
           "zaxis": {
            "backgroundcolor": "rgb(17,17,17)",
            "gridcolor": "#506784",
            "gridwidth": 2,
            "linecolor": "#506784",
            "showbackground": true,
            "ticks": "",
            "zerolinecolor": "#C8D4E3"
           }
          },
          "shapedefaults": {
           "line": {
            "color": "#f2f5fa"
           }
          },
          "sliderdefaults": {
           "bgcolor": "#C8D4E3",
           "bordercolor": "rgb(17,17,17)",
           "borderwidth": 1,
           "tickwidth": 0
          },
          "ternary": {
           "aaxis": {
            "gridcolor": "#506784",
            "linecolor": "#506784",
            "ticks": ""
           },
           "baxis": {
            "gridcolor": "#506784",
            "linecolor": "#506784",
            "ticks": ""
           },
           "bgcolor": "rgb(17,17,17)",
           "caxis": {
            "gridcolor": "#506784",
            "linecolor": "#506784",
            "ticks": ""
           }
          },
          "title": {
           "x": 0.05
          },
          "updatemenudefaults": {
           "bgcolor": "#506784",
           "borderwidth": 0
          },
          "xaxis": {
           "automargin": true,
           "gridcolor": "#283442",
           "linecolor": "#506784",
           "ticks": "",
           "title": {
            "standoff": 15
           },
           "zerolinecolor": "#283442",
           "zerolinewidth": 2
          },
          "yaxis": {
           "automargin": true,
           "gridcolor": "#283442",
           "linecolor": "#506784",
           "ticks": "",
           "title": {
            "standoff": 15
           },
           "zerolinecolor": "#283442",
           "zerolinewidth": 2
          }
         }
        },
        "xaxis": {
         "anchor": "y",
         "domain": [
          0,
          1
         ],
         "title": {
          "text": "date"
         }
        },
        "yaxis": {
         "anchor": "x",
         "domain": [
          0,
          1
         ],
         "title": {
          "text": "3p"
         }
        }
       }
      }
     },
     "metadata": {},
     "output_type": "display_data"
    }
   ],
   "source": [
    "# scatterplot usage\n",
    "# get user inputs\n",
    "print(df.columns.tolist())\n",
    "stat = input('pick a stat (see choices below): ')\n",
    "line = float(input(\"Enter the line: \"))\n",
    "\n",
    "# plot\n",
    "scatter(df, stat, line)"
   ]
  }
 ],
 "metadata": {
  "kernelspec": {
   "display_name": "Python 3",
   "language": "python",
   "name": "python3"
  },
  "language_info": {
   "codemirror_mode": {
    "name": "ipython",
    "version": 3
   },
   "file_extension": ".py",
   "mimetype": "text/x-python",
   "name": "python",
   "nbconvert_exporter": "python",
   "pygments_lexer": "ipython3",
   "version": "3.12.1"
  }
 },
 "nbformat": 4,
 "nbformat_minor": 2
}
